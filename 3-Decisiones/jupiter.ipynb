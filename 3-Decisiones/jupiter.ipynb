{
 "cells": [
  {
   "cell_type": "code",
   "execution_count": 1,
   "metadata": {},
   "outputs": [
    {
     "name": "stdout",
     "output_type": "stream",
     "text": [
      "No son iguales\n"
     ]
    }
   ],
   "source": [
    "n1 = 5\n",
    "n2 = 10\n",
    "if n1 == n2:\n",
    "    print(\"Son iguales\")\n",
    "else:\n",
    "    print(\"No son iguales\")"
   ]
  },
  {
   "cell_type": "markdown",
   "metadata": {},
   "source": [
    "# Clase de decisiones"
   ]
  },
  {
   "cell_type": "code",
   "execution_count": 5,
   "metadata": {},
   "outputs": [
    {
     "name": "stdout",
     "output_type": "stream",
     "text": [
      "numero 1 mayor a 2\n"
     ]
    }
   ],
   "source": [
    "n1 = 20\n",
    "if n1 > n2:\n",
    "    print(\"numero 1 mayor a 2\")\n",
    "else:\n",
    "    if n1 == n2:\n",
    "        print(\"iguales\")\n",
    "    else:\n",
    "        print(\"no iguales\")"
   ]
  },
  {
   "cell_type": "code",
   "execution_count": 3,
   "metadata": {},
   "outputs": [
    {
     "data": {
      "text/plain": [
       "False"
      ]
     },
     "execution_count": 3,
     "metadata": {},
     "output_type": "execute_result"
    }
   ],
   "source": [
    "5 != 0 and \"s\" == \"n\""
   ]
  }
 ],
 "metadata": {
  "kernelspec": {
   "display_name": "Python 3",
   "language": "python",
   "name": "python3"
  },
  "language_info": {
   "codemirror_mode": {
    "name": "ipython",
    "version": 3
   },
   "file_extension": ".py",
   "mimetype": "text/x-python",
   "name": "python",
   "nbconvert_exporter": "python",
   "pygments_lexer": "ipython3",
   "version": "3.11.4"
  },
  "orig_nbformat": 4
 },
 "nbformat": 4,
 "nbformat_minor": 2
}
