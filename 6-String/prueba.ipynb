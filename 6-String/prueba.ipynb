{
 "cells": [
  {
   "cell_type": "code",
   "execution_count": 2,
   "metadata": {},
   "outputs": [
    {
     "name": "stdout",
     "output_type": "stream",
     "text": [
      "7\n",
      "j\n"
     ]
    }
   ],
   "source": [
    "txt = \"mensaje\"\n",
    "print (len(txt))\n",
    "print(txt[5])"
   ]
  },
  {
   "cell_type": "code",
   "execution_count": 3,
   "metadata": {},
   "outputs": [
    {
     "name": "stdout",
     "output_type": "stream",
     "text": [
      "m\n",
      "e\n",
      "n\n",
      "s\n",
      "a\n",
      "j\n",
      "e\n"
     ]
    }
   ],
   "source": [
    "for i in range (len(txt)): \n",
    "    print(txt[i])"
   ]
  },
  {
   "cell_type": "code",
   "execution_count": 4,
   "metadata": {},
   "outputs": [
    {
     "name": "stdout",
     "output_type": "stream",
     "text": [
      "m\n",
      "e\n",
      "n\n",
      "s\n",
      "a\n",
      "j\n",
      "e\n"
     ]
    }
   ],
   "source": [
    "for letra in txt: \n",
    "    print(letra)"
   ]
  },
  {
   "cell_type": "code",
   "execution_count": 5,
   "metadata": {},
   "outputs": [
    {
     "ename": "TypeError",
     "evalue": "'str' object does not support item assignment",
     "output_type": "error",
     "traceback": [
      "\u001b[0;31m---------------------------------------------------------------------------\u001b[0m",
      "\u001b[0;31mTypeError\u001b[0m                                 Traceback (most recent call last)",
      "\u001b[1;32m/workspaces/AD23TC1028-409/6-String/prueba.ipynb Cell 4\u001b[0m line \u001b[0;36m1\n\u001b[0;32m----> <a href='vscode-notebook-cell://codespaces%2Bsuper-guide-gv77rqx56cp9rx/workspaces/AD23TC1028-409/6-String/prueba.ipynb#W3sdnNjb2RlLXJlbW90ZQ%3D%3D?line=0'>1</a>\u001b[0m txt[\u001b[39m3\u001b[39;49m]\u001b[39m=\u001b[39m \u001b[39m\"\u001b[39m\u001b[39mS\u001b[39m\u001b[39m\"\u001b[39m\n",
      "\u001b[0;31mTypeError\u001b[0m: 'str' object does not support item assignment"
     ]
    }
   ],
   "source": [
    "txt[3]= \"S\""
   ]
  },
  {
   "cell_type": "code",
   "execution_count": 14,
   "metadata": {},
   "outputs": [
    {
     "name": "stdout",
     "output_type": "stream",
     "text": [
      "nsa\n",
      "es\n",
      "ens\n",
      "ejas\n",
      "ejasnem\n",
      "mens\n",
      "saje\n",
      "mensaje\n"
     ]
    }
   ],
   "source": [
    "#slidesing start, stop, step\n",
    "print(txt[2:5])\n",
    "print(txt[1:5:2])\n",
    "print(txt[-6:-3])\n",
    "print(txt[-1:-5:-1])\n",
    "print(txt[::-1])\n",
    "print(txt[:4])\n",
    "print(txt[3:])\n",
    "print(txt[0:9])\n",
    "\n"
   ]
  },
  {
   "cell_type": "code",
   "execution_count": 16,
   "metadata": {},
   "outputs": [
    {
     "name": "stdout",
     "output_type": "stream",
     "text": [
      "109\n",
      "m\n"
     ]
    }
   ],
   "source": [
    "print(ord(txt[0]))\n",
    "print(chr(109))"
   ]
  },
  {
   "cell_type": "code",
   "execution_count": 22,
   "metadata": {},
   "outputs": [
    {
     "name": "stdout",
     "output_type": "stream",
     "text": [
      "MENSAJE\n",
      "Mensaje\n",
      "False\n",
      "True\n",
      "mensaj\n"
     ]
    }
   ],
   "source": [
    "print(txt.upper())\n",
    "print(txt.capitalize())\n",
    "print(txt.isdigit())#para saber si son números.\n",
    "print(txt.islower())#para saber si todos son minusculas.\n",
    "txt2= txt[:-1]\n",
    "print(txt2)"
   ]
  }
 ],
 "metadata": {
  "kernelspec": {
   "display_name": "Python 3",
   "language": "python",
   "name": "python3"
  },
  "language_info": {
   "codemirror_mode": {
    "name": "ipython",
    "version": 3
   },
   "file_extension": ".py",
   "mimetype": "text/x-python",
   "name": "python",
   "nbconvert_exporter": "python",
   "pygments_lexer": "ipython3",
   "version": "3.11.4"
  },
  "orig_nbformat": 4
 },
 "nbformat": 4,
 "nbformat_minor": 2
}
